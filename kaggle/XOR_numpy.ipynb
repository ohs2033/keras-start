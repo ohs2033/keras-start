{
 "cells": [
  {
   "cell_type": "code",
   "execution_count": 1,
   "metadata": {},
   "outputs": [],
   "source": [
    "import numpy as np"
   ]
  },
  {
   "cell_type": "code",
   "execution_count": 18,
   "metadata": {},
   "outputs": [],
   "source": [
    "y = [0, 1, 1, 0]\n",
    "\n",
    "def sigmoid(val):\n",
    "    return 1/(1 + np.exp(-val))\n",
    "\n",
    "def layer1(xmat):\n",
    "    return sigmoid(np.matmul(xmat, [5,5]) -8)\n",
    "def layer2(xmat):\n",
    "    return sigmoid(np.matmul(xmat, [-7,-7]) + 3)\n",
    "def output_layer(ymat):\n",
    "    return sigmoid(np.matmul(ymat, [-11,-11]) + 6)"
   ]
  },
  {
   "cell_type": "code",
   "execution_count": 21,
   "metadata": {},
   "outputs": [],
   "source": [
    "x_matrix = [[0,0], [0,1], [1,0], [1,1]]\n",
    "y_val = []\n",
    "for xmat in x_matrix:\n",
    "    y1 = layer1(xmat)\n",
    "    y2 = layer2(xmat)\n",
    "    output = output_layer([y1,y2])\n",
    "    y_val.append(output)\n"
   ]
  },
  {
   "cell_type": "code",
   "execution_count": 22,
   "metadata": {},
   "outputs": [
    {
     "data": {
      "text/plain": [
       "[0.011184219364935457,\n",
       " 0.99493572468078462,\n",
       " 0.99493572468078462,\n",
       " 0.024388527857003826]"
      ]
     },
     "execution_count": 22,
     "metadata": {},
     "output_type": "execute_result"
    }
   ],
   "source": [
    "Pㅂ"
   ]
  },
  {
   "cell_type": "code",
   "execution_count": null,
   "metadata": {},
   "outputs": [],
   "source": []
  }
 ],
 "metadata": {
  "kernelspec": {
   "display_name": "Python 2",
   "language": "python",
   "name": "python2"
  },
  "language_info": {
   "codemirror_mode": {
    "name": "ipython",
    "version": 2
   },
   "file_extension": ".py",
   "mimetype": "text/x-python",
   "name": "python",
   "nbconvert_exporter": "python",
   "pygments_lexer": "ipython2",
   "version": "2.7.15"
  }
 },
 "nbformat": 4,
 "nbformat_minor": 2
}
