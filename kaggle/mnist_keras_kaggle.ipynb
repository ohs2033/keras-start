{
 "cells": [
  {
   "cell_type": "code",
   "execution_count": 111,
   "metadata": {},
   "outputs": [
    {
     "data": {
      "text/plain": [
       "<matplotlib.figure.Figure at 0x1a427eeb90>"
      ]
     },
     "execution_count": 111,
     "metadata": {},
     "output_type": "execute_result"
    },
    {
     "data": {
      "text/plain": [
       "<matplotlib.figure.Figure at 0x1a427eeb90>"
      ]
     },
     "metadata": {},
     "output_type": "display_data"
    }
   ],
   "source": [
    "#This notebook is from https://www.kaggle.com/yassineghouzam/introduction-to-cnn-keras-0-997-top-6\n",
    "\n",
    "import pandas as pd\n",
    "import numpy as np\n",
    "import matplotlib.pyplot as plt\n",
    "import matplotlib.image as mpimg\n",
    "import seaborn as sns\n",
    "plt.figure(facecolor='white')"
   ]
  },
  {
   "cell_type": "code",
   "execution_count": 61,
   "metadata": {},
   "outputs": [],
   "source": [
    "#1. 데이터 불러오고 전처리하기\n",
    "np.random.seed(2)\n",
    "\n",
    "from sklearn.model_selection import train_test_split\n",
    "from sklearn.metrics import confusion_matrix\n",
    "import itertools\n",
    "\n",
    "from keras.utils.np_utils import to_categorical\n",
    "from keras.models import Sequential\n",
    "from keras.optimizers import RMSprop\n",
    "from keras.preprocessing.image import ImageDataGenerator\n",
    "from keras.callbacks import ReduceLROnPlateau\n",
    "\n",
    "\n",
    "#sns.set은 세팅하는것인듯.\n",
    "sns.set(style='white', context='notebook', palette='deep')\n",
    "\n",
    "train_gen = ImageDataGenerator(1. / 783)\n"
   ]
  },
  {
   "cell_type": "code",
   "execution_count": 62,
   "metadata": {},
   "outputs": [],
   "source": [
    "train = pd.read_csv('data/all/train.csv') #pandas dataframe의 형태로 불러옴.\n",
    "test = pd.read_csv('data/all/test.csv')"
   ]
  },
  {
   "cell_type": "code",
   "execution_count": 63,
   "metadata": {},
   "outputs": [
    {
     "data": {
      "text/plain": [
       "1    4684\n",
       "7    4401\n",
       "3    4351\n",
       "9    4188\n",
       "2    4177\n",
       "6    4137\n",
       "0    4132\n",
       "4    4072\n",
       "8    4063\n",
       "5    3795\n",
       "Name: label, dtype: int64"
      ]
     },
     "execution_count": 63,
     "metadata": {},
     "output_type": "execute_result"
    },
    {
     "data": {
      "image/png": "[encoded data removed]",
      "text/plain": [
       "<matplotlib.figure.Figure at 0x1a34a6e190>"
      ]
     },
     "metadata": {},
     "output_type": "display_data"
    }
   ],
   "source": [
    "Y_train = train[\"label\"]\n",
    "\n",
    "#Label 칼람 드랍하기\n",
    "X_train = train.drop(labels = [\"label\"], axis = 1)\n",
    "\n",
    "del train\n",
    "\n",
    "#각 클래스마다 같은 비슷한 개수의 데이터를 가지고 있는지 체크하기.\n",
    "\n",
    "#간단하게 그래프를 그려주는 seaborn.countplot\n",
    "g = sns.countplot(Y_train)\n",
    "\n",
    "Y_train.value_counts()"
   ]
  },
  {
   "cell_type": "code",
   "execution_count": 64,
   "metadata": {},
   "outputs": [
    {
     "data": {
      "text/plain": [
       "count       784\n",
       "unique        1\n",
       "top       False\n",
       "freq        784\n",
       "dtype: object"
      ]
     },
     "execution_count": 64,
     "metadata": {},
     "output_type": "execute_result"
    }
   ],
   "source": [
    "#null 또는 없는 값이 있는지 찾기\n",
    "\n",
    "X_train.isnull().any().describe()\n",
    "test.isnull().any().describe()\n",
    "#missing 값이 없는 것을 확인함.(있으면 어떻게 나오는데?)"
   ]
  },
  {
   "cell_type": "code",
   "execution_count": 65,
   "metadata": {},
   "outputs": [
    {
     "data": {
      "text/plain": [
       "count       784\n",
       "unique        1\n",
       "top       False\n",
       "freq        784\n",
       "dtype: object"
      ]
     },
     "execution_count": 65,
     "metadata": {},
     "output_type": "execute_result"
    }
   ],
   "source": []
  },
  {
   "cell_type": "code",
   "execution_count": 66,
   "metadata": {},
   "outputs": [],
   "source": [
    "### 2.3 data normalization ###\n",
    "\n",
    "#만약 255로 안 나누면 어떤 일이 벌어질까? 왜 0 부터 1 이어야 하지? 어차피 값들은 다 유사한데.\n",
    "X_train = X_train / 255.0\n",
    "test = test / 255.0\n",
    "\n",
    "### 2.3 Reshape\n",
    "\n",
    "#reshape에서 첫 번째 것을 -1로 놓은 이유는 아마 그대로 이기 때문인듯?\n",
    "#reshape를 하는 이유는 CNN을 하기 위해서인듯.\n",
    "X_train = X_train.values.reshape(-1, 28, 28,1) #높이, 넓이 각 28, canal = 1?\n",
    "test = test.values.reshape(-1, 28, 28, 1)\n",
    "\n",
    "\n",
    "### 2.5 Label encoding\n",
    "Y_train = to_categorical(Y_train, num_classes=10)\n",
    "\n",
    "\n",
    "\n"
   ]
  },
  {
   "cell_type": "code",
   "execution_count": 67,
   "metadata": {},
   "outputs": [
    {
     "data": {
      "text/plain": [
       "(42000, 28, 28, 1)"
      ]
     },
     "execution_count": 67,
     "metadata": {},
     "output_type": "execute_result"
    }
   ],
   "source": [
    "X_train.shape # 4번째 차원은 Channel로 여기선 색이 하나이므로 1."
   ]
  },
  {
   "cell_type": "code",
   "execution_count": 68,
   "metadata": {},
   "outputs": [],
   "source": [
    "X_val = X_train[:10000]"
   ]
  },
  {
   "cell_type": "code",
   "execution_count": 69,
   "metadata": {},
   "outputs": [],
   "source": [
    "# 주의 : 데이터를 split할때는 클래스별로 고르게 split되도록 해라.\n",
    "random_seed = 2\n",
    "X_train, X_val, Y_train, Y_val = train_test_split(\n",
    "    X_train, Y_train, test_size=0.1, random_state=random_seed)\n",
    "## random_state를 주었으니 랜덤하게 추출될 것이다."
   ]
  },
  {
   "cell_type": "code",
   "execution_count": 70,
   "metadata": {},
   "outputs": [
    {
     "data": {
      "text/plain": [
       "(37800, 28, 28, 1)"
      ]
     },
     "execution_count": 70,
     "metadata": {},
     "output_type": "execute_result"
    }
   ],
   "source": [
    "X_train.shape"
   ]
  },
  {
   "cell_type": "code",
   "execution_count": 71,
   "metadata": {},
   "outputs": [
    {
     "data": {
      "image/png": "[encoded data removed]",
      "text/plain": [
       "<matplotlib.figure.Figure at 0x1a34106090>"
      ]
     },
     "metadata": {},
     "output_type": "display_data"
    }
   ],
   "source": [
    "g = plt.imshow(X_train[1][:,:,0])"
   ]
  },
  {
   "cell_type": "code",
   "execution_count": 72,
   "metadata": {},
   "outputs": [],
   "source": [
    "### 3. CNN\n",
    "from keras.layers.convolutional import Conv2D\n",
    "from keras.layers.convolutional import MaxPooling2D\n",
    "from keras.layers import Dense\n",
    "from keras.layers import Flatten\n",
    "from keras.layers import Dropout\n",
    "### 3.1 모델 정의하기\n",
    "\n",
    "### (1) 첫번째는 Convolutional Layer(Conv2D)\n",
    "###   첫 두개에는 32개필터를 넣을것이고, 마지막 2개에는 64필터를 넣을것이다.\n",
    "###   각 필터는 각 부분의 이미지를 필터링한다 (커널 사이즈에 따라.)\n",
    "###   커널 필터 매트릭스는 전체 이미지에 적용된다... 그리고 이미지를 변형시킨다.\n",
    "###   CNN은 필터로 인해 변형된 이미지의 특징을 고립시킬 수 있다.\n",
    "model = Sequential()\n",
    "\n",
    "model.add(Conv2D(filters = 32, kernel_size = (5,5), padding = 'Same',\n",
    "    activation = 'relu', input_shape = (28,28,1)))\n",
    "model.add(Conv2D(\n",
    "    filters = 32, kernel_size = (5,5), padding = 'Same',\n",
    "    activation = 'relu'))\n",
    "        \n",
    "### (2) Max Pooling\n",
    "###   두 번째로 중요한 레이어는 맥스 풀링 2D레이어이다. 이 레이어는 단순하게 '다운셈플링'\n",
    "###   역할을 한다. 인접한 두 픽셀 중 가장 큰 것을 고른다.\n",
    "###   오버피팅과 계산량을 줄이기 위해 사용된다.\n",
    "###   풀링 사이즈도 역시 중요한데, 풀링 사이즈가 클수록 다운샘플링이 더 중요해진다.\n",
    "###   \n",
    "###   두 레이어를 함께 씀으로써 로컬 피쳐와 글로벌 피쳐를 둘 다 익힐 수 있다.\n",
    "model.add(MaxPooling2D(pool_size=(2,2)))\n",
    "\n",
    "### (3) 드랍아웃\n",
    "###   드랍아웃은 'regularzation' 메소드이다.\n",
    "###   레이어에서 일정 비율의 노드들이 고의적으로 무시된다. (weight가 0으로 설정)\n",
    "###   이 테크닉은 오버피팅을 역시 감소시키고 generalization을 증가시킨다.\n",
    "\n",
    "model.add(Dropout(0.25)) #why 0.25?\n",
    "\n",
    "model.add(Conv2D(\n",
    "    filters = 64, kernel_size = (3,3), padding = 'Same',\n",
    "    activation = 'relu', input_shape = (28,28,1)\n",
    "))\n",
    "model.add(Conv2D(\n",
    "    filters = 64, kernel_size = (3,3), padding = 'Same',\n",
    "    activation = 'relu', input_shape = (28,28,1)\n",
    "))\n",
    "          \n",
    "model.add(MaxPooling2D(pool_size=(2,2)))\n",
    "model.add(Dropout(0.25)) #why 0.25?\n",
    "\n",
    "model.add(Flatten())\n",
    "model.add(Dense(256, activation=\"relu\"))\n",
    "model.add(Dropout(0.5))\n",
    "model.add(Dense(10, activation = \"softmax\"))\n",
    "\n",
    "\n",
    "\n",
    "\n",
    "### (4)'relu'는 retifier (activation function)이다. 이것은 네트워크에 \n",
    "###   non-linearity를 도입하기 위해 사용된다.\n",
    "\n",
    "### (5) Flatten layer는 마지막 피처 맵을 1차원 백터로 변환시키기 위해 사용된다.\n",
    "\n",
    "\n",
    "###   두 개의 Dense layer(Fully-connected layer)를 통해 artificial\n",
    "###   neural network 분류기를 도입했다. 마지막 레이어에서는 softmax레이어를 썼다.\n",
    "###   이 레이어는 각 클래스에 속할 확률을 의미한다."
   ]
  },
  {
   "cell_type": "code",
   "execution_count": 118,
   "metadata": {},
   "outputs": [],
   "source": [
    "### 3.2 옵티마이저와 annealer 정하기\n",
    "\n",
    "\n",
    "### 옵티마이저들은 어떤 차이가 있을까 RMSProp, sgd, adam\n",
    "optimizer = RMSprop(lr=0.0001, rho=0.9, epsilon=1e-08, decay=0.0)\n",
    "\n",
    "model.compile(loss='categorical_crossentropy', optimizer=optimizer, metrics=[\"accuracy\"])\n",
    "\n",
    "\n",
    "### ** LR Anealing\n",
    "### LR을 스텝에 따라 변경시킴으로써 글로벌 미니마에 더 가깝게 해주는 효과.\n",
    "\n",
    "learning_rate_reduction = ReduceLROnPlateau(monitor='val_acc', \n",
    "                                            patience=3, \n",
    "                                            verbose=1, \n",
    "                                            factor=0.5, \n",
    "                                            min_lr=0.00001)\n",
    "\n",
    "epochs = 3 #epoch는 어떤 효과가 있나?\n",
    "batch_size = 30\n"
   ]
  },
  {
   "cell_type": "code",
   "execution_count": null,
   "metadata": {},
   "outputs": [
    {
     "name": "stdout",
     "output_type": "stream",
     "text": [
      "Epoch 1/3\n",
      " - 316s - loss: 0.2689 - acc: 0.9179 - val_loss: 0.0975 - val_acc: 0.9707\n",
      "Epoch 2/3\n"
     ]
    }
   ],
   "source": [
    "### 3.3 Data augmentation(데이터 증대?증가?)\n",
    "# With data augmentation to prevent overfitting (accuracy 0.99286)\n",
    "\n",
    "datagen = ImageDataGenerator(\n",
    "        featurewise_center=False,  # set input mean to 0 over the dataset\n",
    "        samplewise_center=False,  # set each sample mean to 0\n",
    "        featurewise_std_normalization=False,  # divide inputs by std of the dataset\n",
    "        samplewise_std_normalization=False,  # divide each input by its std\n",
    "        zca_whitening=False,  # apply ZCA whitening\n",
    "        rotation_range=10,  # randomly rotate images in the range (degrees, 0 to 180)\n",
    "        zoom_range = 0.1, # Randomly zoom image \n",
    "        width_shift_range=0.1,  # randomly shift images horizontally (fraction of total width)\n",
    "        height_shift_range=0.1,  # randomly shift images vertically (fraction of total height)\n",
    "        horizontal_flip=False,  # randomly flip images\n",
    "        vertical_flip=False)  # randomly flip images\n",
    "\n",
    "\n",
    "datagen.fit(X_train)\n",
    "\n",
    "\n",
    "\n",
    "\n",
    "\n",
    "# Fit the model\n",
    "history = model.fit_generator(\n",
    "    datagen.flow(X_train,Y_train, batch_size=batch_size),\n",
    "    epochs = epochs, validation_data = (X_val,Y_val),\n",
    "    verbose = 2, steps_per_epoch=X_train.shape[0] // batch_size\n",
    "    , callbacks=[learning_rate_reduction])\n",
    "\n",
    "\n"
   ]
  },
  {
   "cell_type": "code",
   "execution_count": null,
   "metadata": {},
   "outputs": [],
   "source": [
    "############ 4. 모델 평가하기 #######################\n",
    "\n",
    "#####4.1 Training and validation curves\n",
    "#### loss와 accuracy 커브를 표현해보자.\n",
    "\n",
    "fig, ax = plt.subplots(2,1) #그래프를 두개 세로로 만든다는 얘기.\n",
    "ax[0].plot(history.history['loss'], color='b', label='Training loss')\n",
    "ax[0].plot(history.history['val_loss'], color='r', label='Validation loss', axes=ax[0])\n",
    "\n",
    "legend = ax[0].legend(loc='best', shadow=True)\n",
    "\n",
    "ax[1].plot(history.history['acc'], color='b', label=\"Training accuracy\")\n",
    "ax[1].plot(history.history['val_acc'], color='r',label=\"Validation accuracy\")\n",
    "legend = ax[1].legend(loc='best', shadow=True)\n"
   ]
  },
  {
   "cell_type": "code",
   "execution_count": null,
   "metadata": {},
   "outputs": [],
   "source": [
    "#### 4.2 Confusion Matrix ###\n",
    "\n",
    "def plot_confusion_matrix(cm, classes, normalize=False, title='Confusion matrix', cmap=plt.cm.Blues):\n",
    "    \"\"\"\n",
    "    이 함수는 Confusion matrix를 프린트합니다.\n",
    "    normalize=True를 적용하면 normalize역시 가능합니다.\n",
    "    \"\"\"\n",
    "    plt.imshow(cm, interpolation='nearest')\n",
    "    plt.title(title)\n",
    "    plt.colorbar()\n",
    "    \n",
    "    tick_marks = np.arange(len(classes))\n",
    "    plt.xticks(tick_marks, classes, rotation=45)\n",
    "    plt.yticks(tick_marks, classes)\n",
    "    \n",
    "    if normalize:\n",
    "        cm = cm.astype('float') / cm.sum(axis=1)[:, np.newaxis]\n",
    "        \n",
    "    thresh = cm.max() / 2\n",
    "#     for i , j in itertools.product\n",
    "    for i, j in itertools.product(range(cm.shape[0]), range(cm.shape[1])):\n",
    "        plt.text(j, i, cm[i, j],\n",
    "                 horizontalalignment=\"center\",\n",
    "                 color=\"white\" if cm[i, j] > thresh else \"black\")\n",
    "    plt.tight_layout()\n",
    "    plt.ylabel('True label')\n",
    "    plt.xlabel('Predicted label')\n",
    "    \n"
   ]
  },
  {
   "cell_type": "code",
   "execution_count": null,
   "metadata": {},
   "outputs": [],
   "source": [
    "Y_pred = model.predict(X_val)\n",
    "Y_pred_classes = np.argmax(Y_pred,axis=1)"
   ]
  },
  {
   "cell_type": "code",
   "execution_count": null,
   "metadata": {},
   "outputs": [],
   "source": [
    "Y_true = np.argmax(Y_val, axis=1)\n",
    "confusion_mtx = confusion_matrix(Y_true, Y_pred_classes)"
   ]
  },
  {
   "cell_type": "code",
   "execution_count": null,
   "metadata": {},
   "outputs": [],
   "source": [
    "plot_confusion_matrix(confiusion_mtx, classes=range(10))"
   ]
  },
  {
   "cell_type": "code",
   "execution_count": null,
   "metadata": {},
   "outputs": [],
   "source": [
    "# Display some error results \n",
    "\n",
    "# Errors are difference between predicted labels and true labels\n",
    "errors = (Y_pred_classes - Y_true != 0)\n",
    "\n",
    "Y_pred_classes_errors = Y_pred_classes[errors]\n",
    "Y_pred_errors = Y_pred[errors]\n",
    "Y_true_errors = Y_true[errors]\n",
    "X_val_errors = X_val[errors]\n",
    "\n",
    "def display_errors(errors_index,img_errors,pred_errors, obs_errors):\n",
    "    \"\"\" This function shows 6 images with their predicted and real labels\"\"\"\n",
    "    n = 0\n",
    "    nrows = 2\n",
    "    ncols = 3\n",
    "    fig, ax = plt.subplots(nrows,ncols,sharex=True,sharey=True)\n",
    "    for row in range(nrows):\n",
    "        for col in range(ncols):\n",
    "            error = errors_index[n]\n",
    "            ax[row,col].imshow((img_errors[error]).reshape((28,28)))\n",
    "            ax[row,col].set_title(\"Predicted label :{}\\nTrue label :{}\".format(pred_errors[error],obs_errors[error]))\n",
    "            n += 1\n",
    "\n",
    "# Probabilities of the wrong predicted numbers\n",
    "Y_pred_errors_prob = np.max(Y_pred_errors,axis = 1)\n",
    "\n",
    "# Predicted probabilities of the true values in the error set\n",
    "true_prob_errors = np.diagonal(np.take(Y_pred_errors, Y_true_errors, axis=1))\n",
    "\n",
    "# Difference between the probability of the predicted label and the true label\n",
    "delta_pred_true_errors = Y_pred_errors_prob - true_prob_errors\n",
    "\n",
    "# Sorted list of the delta prob errors\n",
    "sorted_dela_errors = np.argsort(delta_pred_true_errors)\n",
    "\n",
    "# Top 6 errors \n",
    "most_important_errors = sorted_dela_errors[-6:]\n",
    "\n",
    "# Show the top 6 errors\n",
    "display_errors(most_important_errors, X_val_errors, Y_pred_classes_errors, Y_true_errors)"
   ]
  },
  {
   "cell_type": "code",
   "execution_count": null,
   "metadata": {},
   "outputs": [],
   "source": [
    "# predict results\n",
    "results = model.predict(test)\n",
    "\n",
    "# select the indix with the maximum probability\n",
    "results = np.argmax(results,axis = 1)\n",
    "\n",
    "results = pd.Series(results,name=\"Label\")"
   ]
  },
  {
   "cell_type": "code",
   "execution_count": null,
   "metadata": {},
   "outputs": [],
   "source": [
    "submission = pd.concat([pd.Series(range(1,28001),name = \"ImageId\"),results],axis = 1)\n",
    "\n",
    "submission.to_csv(\"cnn_mnist_datagen.csv\",index=False)"
   ]
  },
  {
   "cell_type": "code",
   "execution_count": null,
   "metadata": {},
   "outputs": [],
   "source": []
  }
 ],
 "metadata": {
  "kernelspec": {
   "display_name": "Python 2",
   "language": "python",
   "name": "python2"
  },
  "language_info": {
   "codemirror_mode": {
    "name": "ipython",
    "version": 2
   },
   "file_extension": ".py",
   "mimetype": "text/x-python",
   "name": "python",
   "nbconvert_exporter": "python",
   "pygments_lexer": "ipython2",
   "version": "2.7.15"
  }
 },
 "nbformat": 4,
 "nbformat_minor": 2
}
