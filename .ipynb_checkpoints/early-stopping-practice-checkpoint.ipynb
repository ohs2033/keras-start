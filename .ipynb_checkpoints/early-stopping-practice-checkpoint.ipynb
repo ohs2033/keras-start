{
 "cells": [
  {
   "cell_type": "code",
   "execution_count": 12,
   "metadata": {},
   "outputs": [],
   "source": [
    "import tensorflow\n",
    "import keras \n",
    "import numpy as np\n",
    "import pandas as pd\n",
    "import keras.datasets.mnist as mnist\n",
    "train_data, test_data = mnist.load_data()"
   ]
  },
  {
   "cell_type": "code",
   "execution_count": 25,
   "metadata": {},
   "outputs": [],
   "source": [
    "#1. 데이터 import하기. (keras.dataset)\n",
    "## 학습 데이터는 28*28 행렬로 이루어져있다.\n",
    "## train_data [0] 은 x데이터로 (60000, 28, 28)임. 이것을 60000, 784로 reshape해야함.\n",
    "## train_data [1] 은 y데이터로 (60000, 1) 임. 이것은 one-hot-encoding할 필요가 있음.\n",
    "train_data[0] = keras.metrics. train_data[0]\n",
    "x_train = train_data[0][:50000]\n",
    "y_train = train_data[1][:50000]\n",
    "x_val = train_data[0][50000:]\n",
    "y_val = train_data[1][50000:]\n",
    "\n",
    "\n",
    "\n",
    "#2. 데이터 살펴보고 펴기?\n",
    "\n",
    "\n",
    "#3. 모델 만들기\n",
    "\n",
    "\n",
    "#4. 가설함수와 optimizer(예: gradient descent) 만들기\n",
    "\n",
    "\n",
    "#5. EarlyStopping조건 설정\n",
    "\n",
    "\n",
    "#6. 학습 실행하기\n",
    "\n",
    "\n",
    "#7. 그래프로 살펴보기\n",
    "\n",
    "\n",
    "#8. 정확도"
   ]
  },
  {
   "cell_type": "code",
   "execution_count": 26,
   "metadata": {},
   "outputs": [
    {
     "data": {
      "text/plain": [
       "(50000, 28, 28)"
      ]
     },
     "execution_count": 26,
     "metadata": {},
     "output_type": "execute_result"
    }
   ],
   "source": [
    "x_train.shape"
   ]
  },
  {
   "cell_type": "code",
   "execution_count": null,
   "metadata": {},
   "outputs": [],
   "source": []
  }
 ],
 "metadata": {
  "kernelspec": {
   "display_name": "Python 2",
   "language": "python",
   "name": "python2"
  },
  "language_info": {
   "codemirror_mode": {
    "name": "ipython",
    "version": 2
   },
   "file_extension": ".py",
   "mimetype": "text/x-python",
   "name": "python",
   "nbconvert_exporter": "python",
   "pygments_lexer": "ipython2",
   "version": "2.7.15"
  }
 },
 "nbformat": 4,
 "nbformat_minor": 2
}
